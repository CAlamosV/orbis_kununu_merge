{
 "cells": [
  {
   "cell_type": "markdown",
   "metadata": {},
   "source": [
    "### Loading and Cleaning Data\n",
    "\n",
    "1. **Loading and Preprocessing Orbis Data:**\n",
    "   - **Rename Columns:** The Orbis dataset columns are renamed according to `orbis_column_map`.\n",
    "   - **Clean Employee Data:** Employee numbers are converted to numeric format using `clean_employee_data`.\n",
    "   - **Preprocess Company Names:** Company names are cleaned by removing special characters, excess whitespace, and converting to lowercase with `preprocess_company_name`.\n",
    "   - **Filter by Company Size:** Companies with fewer than 30 employees are filtered out.\n",
    "   - **Remove Duplicates:** Duplicate company names are dropped, retaining only the first instance.\n",
    "\n",
    "2. **Loading and Preprocessing Kununu Data:**\n",
    "   - **Sort by Reviews:** The Kununu dataset is sorted by `firm_name` and `total_reviews_num`, with companies having the most reviews prioritized.\n",
    "   - **Remove Duplicates:** Duplicates are removed based on `firm_name`, keeping the record with the highest review count.\n",
    "   - **Rename Columns:** Columns are renamed using `kununu_column_map`.\n",
    "   - **Filter by Reviews:** Companies with fewer than 10 reviews are excluded.\n",
    "   - **Preprocess Company Names:** Company names are cleaned similarly to the Orbis dataset.\n",
    "\n",
    "3. **Sequence of Matching Steps:**\n",
    "   - **Exact Match:** An initial attempt to find exact matches between Orbis and Kununu company names.\n",
    "   - **Standardize Abbreviations:** Abbreviations in company names are standardized.\n",
    "   - **Remove Umlauts:** Umlauts in German company names are converted to their English equivalents.\n",
    "   - **Remove Suffixes:** Common suffixes like \"GmbH\" are removed.\n",
    "   - **Remove Common Words:** Frequently appearing words are removed from company names.\n"
   ]
  },
  {
   "cell_type": "code",
   "execution_count": 3,
   "metadata": {},
   "outputs": [
    {
     "name": "stdout",
     "output_type": "stream",
     "text": [
      "Number of matches after applying exact_match: 13791\n",
      "Number of matches after applying standardize_abbreviations: 431\n",
      "Number of matches after applying remove_umlauts: 32\n",
      "Number of matches after applying remove_suffixes: 1258\n",
      "Number of matches after applying remove_common_words: 3695\n",
      "Matched 49.87% of Kununu firms.\n"
     ]
    }
   ],
   "source": [
    "from rapidfuzz import fuzz, process\n",
    "from mappings import *\n",
    "from utils import *\n",
    "import pandas as pd\n",
    "import numpy as np                               \n",
    "\n",
    "# Load and preprocess Orbis data\n",
    "orbis = (\n",
    "    pd.read_csv(\"data/full_german_sample.csv\", low_memory=False)\n",
    "    .rename(columns=orbis_column_map)                                               # rename columns\n",
    "    .assign(\n",
    "        employees=lambda df: df[\"employees\"].apply(clean_employee_data),            # convert employee data to numeric\n",
    "        orbis_name=lambda df: df[\"orbis_name\"].apply(preprocess_company_name)       # remove special characters and whitespace and make lowercase\n",
    "    )\n",
    "    .query(\"employees > 30\")[orbis_column_map.values()]                             # remove companies with less than 30 employees\n",
    "    .drop_duplicates(subset=\"orbis_name\", keep=\"first\")                             # drop duplicates\n",
    ")\n",
    "\n",
    "# Load and preprocess Kununu data\n",
    "kununu = (\n",
    "    pd.read_csv(\"data/kununu.csv\")\n",
    "    .sort_values(by=[\"firm_name\", \"total_reviews_num\"], ascending=[True, False])\n",
    "    .drop_duplicates(subset=\"firm_name\", keep=\"first\")                              # drop duplicates -- keep entry with most reviews\n",
    "    .rename(columns=kununu_column_map)\n",
    "    .query(\"total_reviews_num > 10\")[[\"kununu_name\", \"kununu_id\"]]                  # remove companies with less than 10 reviews\n",
    "    .assign(kununu_name=lambda df: df[\"kununu_name\"].apply(preprocess_company_name))\n",
    ")\n",
    "\n",
    "# get the list of words that appear more commonly than 99% of the words in company names\n",
    "common_words = get_most_common_words(list(orbis[\"orbis_name\"]) + list(kununu[\"kununu_name\"]))\n",
    "\n",
    "# preserving original names before modifications\n",
    "orbis.loc[:, \"original_orbis_name\"] = orbis[\"orbis_name\"]\n",
    "kununu.loc[:, \"original_kununu_name\"] = kununu[\"kununu_name\"]\n",
    "\n",
    "# define the sequence of matching steps\n",
    "steps = [\n",
    "    (lambda x: x, \"exact_match\"),\n",
    "    (standardize_abbreviations, \"standardize_abbreviations\"),\n",
    "    (umlauts_to_english, \"remove_umlauts\"),\n",
    "    (remove_suffixes, \"remove_suffixes\"),\n",
    "    (lambda x: remove_words_from_name(x, common_words), \"remove_common_words\"),\n",
    "]\n",
    "orbis, kununu, all_matches = match_firms_in_sequence(orbis, kununu, steps)"
   ]
  },
  {
   "cell_type": "markdown",
   "metadata": {},
   "source": [
    "### Matching Remaining Firms Using Fuzzy Merge\n",
    "\n",
    "Calculating and filtering fuzzy similarity scores between company names in the Orbis and Kununu datasets, then preparing DataFrame with the best matches for further verification:\n",
    "\n",
    "1. **Calculate Similarity Scores:**\n",
    "   - **Compute Fuzzy Similarity:** Calculate similarity scores between Orbis and Kununu company names using the `fuzz.QRatio` scorer.\n",
    "   - **Filter by Threshold:** Only matches with a similarity score of 90 or higher are retained.\n",
    "\n",
    "2. **Create DataFrame for Best Matches:**\n",
    "   - **Create DataFrame:** Include these columns: `Original Orbis Name`, `Original Kununu Name`, `Similarity Score`, `Orbis Name (after preprocessing)`, `Kununu Name (after preprocessing)`, `Orbis ID`, `Kununu ID`, `NACE Code`, `Employees`, and `City`.\n",
    "   - **Sort Matches:** The DataFrame is sorted by similarity score (in descending order) and then by Kununu ID (in ascending order).\n",
    "\n",
    "3. **Translate Kununu Names:**\n",
    "   - **Translate to English:** The `Original Kununu Name` is translated to English using the `translate_text` function to assist in verifying matches.\n"
   ]
  },
  {
   "cell_type": "code",
   "execution_count": 15,
   "metadata": {},
   "outputs": [
    {
     "name": "stdout",
     "output_type": "stream",
     "text": [
      "Shape: (9457, 10)\n"
     ]
    }
   ],
   "source": [
    "similarity_scores_matrix = process.cdist(                                         # calculate similarity scores between Orbis and Kununu names\n",
    "    orbis[\"orbis_name\"], kununu[\"kununu_name\"], scorer=fuzz.QRatio\n",
    ")\n",
    "filtered_indices = np.where(similarity_scores_matrix >= 90)                       # remove matches with similarity score less than 90\n",
    "best_fuzzy_matches = pd.DataFrame(                                                # create a DataFrame with the best fuzzy matches to verify\n",
    "    {\n",
    "        \"Original Orbis Name\": orbis[\"original_orbis_name\"].iloc[filtered_indices[0]].values,\n",
    "        \"Original Kununu Name\": kununu[\"original_kununu_name\"].iloc[filtered_indices[1]].values,\n",
    "        \"Similarity Score\": similarity_scores_matrix[filtered_indices],\n",
    "        \"Orbis Name (after preprocessing)\": orbis[\"orbis_name\"].iloc[filtered_indices[0]].values,\n",
    "        \"Kununu Name (after preprocessing)\": kununu[\"kununu_name\"].iloc[filtered_indices[1]].values,\n",
    "        \"Orbis ID\": orbis[\"id\"].iloc[filtered_indices[0]].values,\n",
    "        \"Kununu ID\": kununu[\"kununu_id\"].iloc[filtered_indices[1]].values,\n",
    "        \"NACE Code\": orbis[\"nace_code\"].iloc[filtered_indices[0]].values,\n",
    "        \"Employees\": orbis[\"employees\"].iloc[filtered_indices[0]].values,\n",
    "        \"City\": orbis[\"city\"].iloc[filtered_indices[0]].values,\n",
    "    }\n",
    ").sort_values([\"Similarity Score\", \"Kununu ID\"], ascending=[False, True])         # sort by similarity score and Kununu ID\n",
    "best_fuzzy_matches[\"Kununu Name Translated\"] = best_fuzzy_matches[\n",
    "    \"Original Kununu Name\"\n",
    "].apply(translate_text)                                                           # translate Kununu names to English to help verify matches\n",
    "best_fuzzy_matches.to_csv(\"data/fuzzy_matches_to_verify.csv\", index=False)        # save the best fuzzy matches to a CSV file"
   ]
  }
 ],
 "metadata": {
  "kernelspec": {
   "display_name": "base",
   "language": "python",
   "name": "python3"
  },
  "language_info": {
   "codemirror_mode": {
    "name": "ipython",
    "version": 3
   },
   "file_extension": ".py",
   "mimetype": "text/x-python",
   "name": "python",
   "nbconvert_exporter": "python",
   "pygments_lexer": "ipython3",
   "version": "3.10.12"
  },
  "orig_nbformat": 4
 },
 "nbformat": 4,
 "nbformat_minor": 2
}
